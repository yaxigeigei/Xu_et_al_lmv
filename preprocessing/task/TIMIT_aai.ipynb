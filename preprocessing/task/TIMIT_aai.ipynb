{
 "cells": [
  {
   "cell_type": "markdown",
   "metadata": {},
   "source": [
    "# Extract features from TIMIT corpus"
   ]
  },
  {
   "cell_type": "code",
   "execution_count": 16,
   "metadata": {},
   "outputs": [
    {
     "name": "stdout",
     "output_type": "stream",
     "text": [
      "The autoreload extension is already loaded. To reload it, use:\n",
      "  %reload_ext autoreload\n"
     ]
    }
   ],
   "source": [
    "%load_ext autoreload\n",
    "%autoreload 2\n",
    "\n",
    "import numpy as np\n",
    "import pandas as pd\n",
    "from pathlib import Path\n",
    "import os\n",
    "\n",
    "subject_block = 'TIMIT_corpus'\n",
    "\n",
    "# Shared paths\n",
    "preproc_root = Path('/userdata/dxu/project_np/preproc')\n",
    "label_dir = preproc_root / subject_block / 'labels'\n",
    "chunk_wav_dir = preproc_root / subject_block / 'audio_files' / 'clips'\n"
   ]
  },
  {
   "cell_type": "markdown",
   "metadata": {},
   "source": [
    "## **1. Collect TIMIT wav files**"
   ]
  },
  {
   "cell_type": "code",
   "execution_count": 25,
   "metadata": {},
   "outputs": [],
   "source": [
    "import glob\n",
    "import shutil\n",
    "\n",
    "timit_dir = Path('/userdata/dxu/project_np/tasks/LMV/TIMIT')\n",
    "wav_pattern = timit_dir / '*_*.wav'\n",
    "wav_files = glob.glob(str(wav_pattern))\n",
    "\n",
    "chunk_wav_dir.mkdir(parents=True, exist_ok=True)\n",
    "\n",
    "for p in wav_files:\n",
    "    p_new = chunk_wav_dir / Path(p).name\n",
    "    shutil.copy(p, p_new)\n"
   ]
  },
  {
   "cell_type": "markdown",
   "metadata": {},
   "source": [
    "## **2. Extract features from audio**\n",
    "\n",
    "Most of the following subsections can be excuted on-demand and in parallel.\n",
    "The exception is the pitch extraction in 4.4, which requires extracted phonetic labels from 4.2.\n",
    "\n",
    "### **2.1. Estimate articulatory trajectories**\n",
    "\n",
    "This uses the bootphon articulatory inversion package. For more information check out their github. https://github.com/bootphon/articulatory_inversion"
   ]
  },
  {
   "cell_type": "code",
   "execution_count": 26,
   "metadata": {},
   "outputs": [
    {
     "name": "stdout",
     "output_type": "stream",
     "text": [
      "running inversion!\n",
      "returning artic output dir and prog. file\n"
     ]
    }
   ],
   "source": [
    "from preproc_func.aai import invert\n",
    "\n",
    "artics_dir = preproc_root / subject_block / 'artics'\n",
    "\n",
    "!rm -rf $artics_dir\n",
    "\n",
    "invert(chunk_wav_dir, artics_dir)\n"
   ]
  },
  {
   "cell_type": "markdown",
   "metadata": {},
   "source": [
    "### **4.2. Extract phonetic labels**\n",
    "\n",
    "This uses montreal-forced-aligner. Please ask Many for installation instruction if you need them"
   ]
  },
  {
   "cell_type": "code",
   "execution_count": null,
   "metadata": {},
   "outputs": [],
   "source": [
    "from preproc_func.phoneme.pipeline import run_mfa\n",
    "\n",
    "speech_df = pd.read_csv(label_dir / 'combined_speech_labels.csv')\n",
    "\n",
    "phone_dir = preproc_root / subject_block / 'phones'\n",
    "\n",
    "!rm -rf $phone_dir\n",
    "\n",
    "run_mfa(chunk_wav_dir, speech_df, phone_dir, language='english')\n"
   ]
  },
  {
   "cell_type": "code",
   "execution_count": null,
   "metadata": {
    "tags": []
   },
   "outputs": [],
   "source": [
    "# note - its important here to see everything was aligned. If it wasnt that usally means a label was off"
   ]
  },
  {
   "cell_type": "code",
   "execution_count": null,
   "metadata": {},
   "outputs": [],
   "source": [
    "from preproc_func.phoneme.pipeline import pool_speakers\n",
    "\n",
    "pool_speakers(phone_dir)\n"
   ]
  },
  {
   "cell_type": "markdown",
   "metadata": {},
   "source": [
    "### **4.3. Get peakRate, peakEnv, env, and f0 using Yulia's peakRate code**\n",
    "\n",
    "Run a script that does the matlab peakRate extraction. The results will come out at 100 samples/sec."
   ]
  },
  {
   "cell_type": "code",
   "execution_count": null,
   "metadata": {},
   "outputs": [],
   "source": [
    "from preproc_func.intensity.pipeline import extract_intensity\n",
    "\n",
    "intens_dir = preproc_root / subject_block / 'intensity'\n",
    "\n",
    "!rm -rf intens_dir\n",
    "\n",
    "extract_intensity(chunk_wav_dir, intens_dir)\n"
   ]
  },
  {
   "cell_type": "markdown",
   "metadata": {},
   "source": [
    "### **4.4. Extract pitch features**\n",
    "#### NOTE: THIS STEP REQUIRES THE COMPLETION OF 4.2"
   ]
  },
  {
   "cell_type": "code",
   "execution_count": null,
   "metadata": {},
   "outputs": [],
   "source": [
    "from preproc_func.pitch.straight import run_straight\n",
    "\n",
    "tg_dir = preproc_root / subject_block / 'phones/results/all'\n",
    "pitch_dir = preproc_root / subject_block / 'pitch'\n",
    "\n",
    "!rm -rf $pitch_dir\n",
    "\n",
    "run_straight(chunk_wav_dir, tg_dir, pitch_dir)\n"
   ]
  },
  {
   "cell_type": "code",
   "execution_count": null,
   "metadata": {},
   "outputs": [],
   "source": [
    "from preproc_func.pitch.crepe_lg import make_pitch\n",
    "\n",
    "pitch_dir = preproc_root / subject_block / 'pitch'\n",
    "!rm -rf $pitch_dir\n",
    "pitch_dir.mkdir(parents=True, exist_ok=True)\n",
    "\n",
    "# Run laura G pitch extraction\n",
    "make_pitch(chunk_wav_dir, pitch_dir)"
   ]
  },
  {
   "cell_type": "markdown",
   "metadata": {
    "tags": []
   },
   "source": [
    "### **4.5. Extract formants using PRAAT**\n",
    "#### WARNING: THIS STEP REQUIRES USER INTERVENTION AS THE SCRIPT HAS TO BE RUN LOCALLY\n",
    "it'd be great if it didnt :sob:"
   ]
  },
  {
   "cell_type": "code",
   "execution_count": null,
   "metadata": {},
   "outputs": [],
   "source": [
    "numbered_wavdir"
   ]
  },
  {
   "cell_type": "code",
   "execution_count": null,
   "metadata": {},
   "outputs": [],
   "source": [
    "# Step 1: Change the praat template: \n",
    "# Set the Mount point (this will need to be run locally)\n",
    "newls = []\n",
    "numbered_wav_fp = str(numbered_wavdir) +'/'\n",
    "with open('./preproc_func/formants/praat_template.txt', 'r') as f: \n",
    "    l = f.readlines()\n",
    "    newls = [ll.replace('{filepath}', numbered_wav_fp) for ll in l]\n",
    "    newls = [ll.replace('{mount_point}', mount_point) for ll in newls]\n",
    "    \n",
    "with open(f'./preproc_func/formants/praat_scripts/praat_{subject}_{block}.txt', 'w') as f: \n",
    "    f.writelines(newls)"
   ]
  },
  {
   "cell_type": "markdown",
   "metadata": {},
   "source": [
    "#### Instructions for formant extraction from here: \n",
    "1. Open Praat\n",
    "2. On mac, click on Praat, and hit Open Praat Script\n",
    "3. Load up the script\n",
    "4. Hit run script. "
   ]
  },
  {
   "cell_type": "code",
   "execution_count": null,
   "metadata": {},
   "outputs": [],
   "source": [
    "formant_fp = preproc_root /  subject_block / 'formants'\n",
    "!rm -rf $formant_fp\n",
    "formant_fp.mkdir(parents=True, exist_ok=True)"
   ]
  },
  {
   "cell_type": "code",
   "execution_count": null,
   "metadata": {},
   "outputs": [],
   "source": [
    "from preproc_func.formants.postprocess_formants import postprocess_formants"
   ]
  },
  {
   "cell_type": "code",
   "execution_count": null,
   "metadata": {},
   "outputs": [],
   "source": [
    "from preproc_func.file_org import rename_files\n",
    "postprocess_formants(numbered_wavdir, formant_fp)\n",
    "rename_files(str(formant_fp), ind_to_time)"
   ]
  },
  {
   "cell_type": "code",
   "execution_count": null,
   "metadata": {},
   "outputs": [],
   "source": []
  }
 ],
 "metadata": {
  "kernelspec": {
   "display_name": "Python 3 (ipykernel)",
   "language": "python",
   "name": "python3"
  },
  "language_info": {
   "codemirror_mode": {
    "name": "ipython",
    "version": 3
   },
   "file_extension": ".py",
   "mimetype": "text/x-python",
   "name": "python",
   "nbconvert_exporter": "python",
   "pygments_lexer": "ipython3",
   "version": "3.9.12"
  }
 },
 "nbformat": 4,
 "nbformat_minor": 4
}
